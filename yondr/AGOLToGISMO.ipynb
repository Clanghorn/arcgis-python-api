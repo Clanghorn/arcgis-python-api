{
 "cells": [
  {
   "cell_type": "code",
   "execution_count": 21,
   "metadata": {},
   "outputs": [],
   "source": [
    "# Import libraries\n",
    "from arcgis.gis import GIS\n",
    "from IPython.display import display\n",
    "from getpass import getpass"
   ]
  },
  {
   "cell_type": "code",
   "execution_count": 22,
   "metadata": {},
   "outputs": [],
   "source": [
    "source_password = getpass()\n",
    "# target_password = getpass()\n",
    "source = GIS(\"https://yondr.maps.arcgis.com/\", 'colin.langhorn_Yondr', source_password)\n",
    "# AGOL DEV\n",
    "# target = GIS('https://yondrdev.maps.arcgis.com/','YondrDev' , 'df1ZDR5vhG2a')\n",
    "# GISMO\n",
    "target = GIS('https://gismo.yondrgroup.com/portal/home','yondr.publisher' , '7ZhHZG7ebuMHh4k')"
   ]
  },
  {
   "cell_type": "code",
   "execution_count": 26,
   "metadata": {},
   "outputs": [
    {
     "name": "stdout",
     "output_type": "stream",
     "text": [
      "1 items will be cloned. See the list below:\n",
      "Cloning FiberUpload_2022-09-27-H16-M56\n",
      "Successfully cloned FiberUpload_2022-09-27-H16-M56\n",
      "The function has completed\n"
     ]
    }
   ],
   "source": [
    "#Get a specific item using item id:\n",
    "itemid = '9ed8882d5cfe4d0787a58e7b80dae8e1'\n",
    "items = source.content.search(itemid) \n",
    "\n",
    "print(str(len(items)) + \" items will be cloned. See the list below:\") \n",
    "items\n",
    "\n",
    "def deep_copy_content(input_list):\n",
    "    for item in input_list:\n",
    "        try:\n",
    "            print(\"Cloning \" + item.title)\n",
    "            copy_list = []\n",
    "            copy_list.append(item)\n",
    "            target.content.clone_items(copy_list, copy_data=True, search_existing_items=True)\n",
    "            print(\"Successfully cloned \" + item.title)\n",
    "        except Exception as e:\n",
    "            print(e)\n",
    "    print(\"The function has completed\")\n",
    "deep_copy_content(items)"
   ]
  },
  {
   "attachments": {},
   "cell_type": "markdown",
   "metadata": {},
   "source": [
    "## Copy Items\n",
    "Below we define a function that you can call in a loop for each item in the dictionary we composed earlier. If the item is a text based item such as a Web Map or a file based item such as a layer package, it downloads the item's data to a temporary directory and uses that for creating the target item during cloning. You can find the [exhaustive list of different items](http://doc.arcgis.com/en/arcgis-online/reference/supported-items.htm) that you can upload to your portal and their corresponding item types from the [REST API documentation](http://resources.arcgis.com/en/help/arcgis-rest-api/index.html#/Items_and_item_types/02r3000000ms000000/). For brevity, this sample covers only a subset of those items. Note, if the item points to a web layer URL, the target item would also point to the same URL."
   ]
  },
  {
   "cell_type": "code",
   "execution_count": 3,
   "metadata": {},
   "outputs": [],
   "source": [
    "TEXT_BASED_ITEM_TYPES = frozenset(['Web Map', 'Feature Service', 'Map Service','Web Scene',\n",
    "                                   'Image Service', 'Feature Collection', \n",
    "                                   'Feature Collection Template',\n",
    "                                   'Web Mapping Application', 'Mobile Application', \n",
    "                                   'Symbol Set', 'Color Set',\n",
    "                                   'Windows Viewer Configuration'])\n",
    "\n",
    "FILE_BASED_ITEM_TYPES = frozenset(['File Geodatabase','CSV', 'Image', 'KML', 'Locator Package',\n",
    "                                  'Map Document', 'Shapefile', 'Microsoft Word', 'PDF',\n",
    "                                  'Microsoft Powerpoint', 'Microsoft Excel', 'Layer Package',\n",
    "                                  'Mobile Map Package', 'Geoprocessing Package', 'Scene Package',\n",
    "                                  'Tile Package', 'Vector Tile Package'])\n",
    "\n",
    "ITEM_COPY_PROPERTIES = ['title', 'type', 'typeKeywords', 'description', 'tags',\n",
    "                        'snippet', 'extent', 'spatialReference', 'name',\n",
    "                        'accessInformation', 'licenseInfo', 'culture', 'url']"
   ]
  },
  {
   "cell_type": "code",
   "execution_count": 4,
   "metadata": {},
   "outputs": [],
   "source": [
    "import tempfile\n",
    "def copy_item(target, source_item):\n",
    "    try:\n",
    "        with tempfile.TemporaryDirectory() as temp_dir:\n",
    "            item_properties = {}\n",
    "            for property_name in ITEM_COPY_PROPERTIES:\n",
    "                item_properties[property_name] = source_item[property_name]\n",
    "\n",
    "            data_file = None\n",
    "            \n",
    "            if source_item.type in TEXT_BASED_ITEM_TYPES:\n",
    "                # If its a text-based item, then read the text and add it to the request.\n",
    "                text = source_item.get_data(False)\n",
    "                item_properties['text'] = text\n",
    "            \n",
    "            elif source_item.type in FILE_BASED_ITEM_TYPES:\n",
    "                # download data and add to the request as a file\n",
    "                data_file = source_item.download(temp_dir)\n",
    "\n",
    "            thumbnail_file = source_item.download_thumbnail(temp_dir)\n",
    "            metadata_file = source_item.download_metadata(temp_dir)\n",
    "\n",
    "            #find item's owner\n",
    "            source_item_owner = source.users.search(source_item.owner)[0]\n",
    "            \n",
    "            #find item's folder\n",
    "            item_folder_titles = [f['title'] for f in source_item_owner.folders \n",
    "                                  if f['id'] == source_item.ownerFolder]\n",
    "            folder_name = None\n",
    "            if len(item_folder_titles) > 0:\n",
    "                folder_name = item_folder_titles[0]\n",
    "\n",
    "            #if folder does not exist for target user, create it\n",
    "            if folder_name:\n",
    "                target_user = target.users.search(source_item.owner)[0]\n",
    "                target_user_folders = [f['title'] for f in target_user.folders\n",
    "                                       if f['title'] == folder_name]\n",
    "                if len(target_user_folders) == 0:\n",
    "                    #create the folder\n",
    "                    target.content.create_folder(folder_name, source_item.owner)\n",
    "            \n",
    "            # Add the item to the target portal, assign owner and folder\n",
    "            target_item = target.content.add(item_properties, data_file, thumbnail_file, \n",
    "                                             metadata_file, source_item.owner, folder_name)\n",
    "            \n",
    "            #Set sharing (privacy) information\n",
    "            share_everyone = source_item.access == 'public'\n",
    "            share_org = source_item.access in ['org', 'public']\n",
    "            share_groups = []\n",
    "            if source_item.access == 'shared':\n",
    "                share_groups = source_item.groups\n",
    "            \n",
    "            target_item.share(share_everyone, share_org, share_groups)\n",
    "            \n",
    "            return target_item\n",
    "        \n",
    "    except Exception as copy_ex:\n",
    "        print(\"\\tError copying \" + source_item.title)\n",
    "        print(\"\\t\" + str(copy_ex))\n",
    "        return None"
   ]
  },
  {
   "cell_type": "code",
   "execution_count": 19,
   "metadata": {},
   "outputs": [
    {
     "name": "stdout",
     "output_type": "stream",
     "text": [
      "<Item title:\"AGOL-GISMO 1.0 Dev Manager App\" type:Web Experience owner:yondrgroup1>\n",
      "<Item title:\"AGOL-Gismo 1.0 GCS Client App\" type:Web Experience owner:yondrgroup1>\n",
      "<Item title:\"AGOL-Gismo 1.0 Map\" type:Web Map owner:yondrgroup1>\n",
      "<Item title:\"FiberCableNetwork\" type:Vector Tile Layer owner:yondrgroup1>\n",
      "<Item title:\"GISMO 1.0 Dev Manager App\" type:Web Experience owner:yondrgroup1>\n",
      "<Item title:\"Gismo 1.0 GCS Client App\" type:Web Experience owner:yondrgroup1>\n",
      "<Item title:\"Gismo 1.0 Map\" type:Web Map owner:yondrgroup1>\n",
      "<Item title:\"Gismo1PrintTask\" type:Geoprocessing Toolbox owner:yondrgroup1>\n",
      "<Item title:\"GismoSite\" type:Feature Layer Collection owner:yondrgroup1>\n",
      "<Item title:\"GlobalDCInfrastruture\" type:Feature Layer Collection owner:yondrgroup1>\n",
      "<Item title:\"HostedGismo1Site\" type:Feature Layer Collection owner:yondrgroup1>\n",
      "<Item title:\"SubmarineCable\" type:Feature Layer Collection owner:yondrgroup1>\n",
      "<Item title:\"Substations _Global\" type:Feature Layer Collection owner:yondrgroup1>\n",
      "<Item title:\"World Countries\" type:Feature Layer Collection owner:yondrgroup1>\n",
      "<Item title:\"YondrMetros\" type:Feature Layer Collection owner:yondrgroup1>\n"
     ]
    }
   ],
   "source": [
    "# Get all Items in a group\n",
    "group_items = []\n",
    "groups = source.groups.search(query = 'title: \"Gismo 1.0\"')\n",
    "for group in groups:\n",
    "    for group_item in group.content():\n",
    "        print(group_item)\n",
    "        group_items.append(group_item)"
   ]
  },
  {
   "cell_type": "code",
   "execution_count": 20,
   "metadata": {},
   "outputs": [
    {
     "name": "stdout",
     "output_type": "stream",
     "text": [
      "Copying AGOL-GISMO 1.0 Dev Manager App \tfor\t yondrgroup1\n",
      "\tError copying AGOL-GISMO 1.0 Dev Manager App\n",
      "\tlist index out of range\n",
      "Copying AGOL-Gismo 1.0 GCS Client App \tfor\t yondrgroup1\n",
      "\tError copying AGOL-Gismo 1.0 GCS Client App\n",
      "\tlist index out of range\n",
      "Copying AGOL-Gismo 1.0 Map \tfor\t yondrgroup1\n",
      "\tError copying AGOL-Gismo 1.0 Map\n",
      "\tlist index out of range\n",
      "Copying FiberCableNetwork \tfor\t yondrgroup1\n",
      "\tError copying FiberCableNetwork\n",
      "\tlist index out of range\n",
      "Copying GISMO 1.0 Dev Manager App \tfor\t yondrgroup1\n",
      "\tError copying GISMO 1.0 Dev Manager App\n",
      "\tlist index out of range\n",
      "Copying Gismo 1.0 GCS Client App \tfor\t yondrgroup1\n",
      "\tError copying Gismo 1.0 GCS Client App\n",
      "\tlist index out of range\n",
      "Copying Gismo 1.0 Map \tfor\t yondrgroup1\n",
      "\tError copying Gismo 1.0 Map\n",
      "\tlist index out of range\n",
      "Copying Gismo1PrintTask \tfor\t yondrgroup1\n",
      "\tError copying Gismo1PrintTask\n",
      "\tlist index out of range\n",
      "Copying GismoSite \tfor\t yondrgroup1\n",
      "\tError copying GismoSite\n",
      "\tlist index out of range\n",
      "Copying GlobalDCInfrastruture \tfor\t yondrgroup1\n",
      "\tError copying GlobalDCInfrastruture\n",
      "\tlist index out of range\n",
      "Copying HostedGismo1Site \tfor\t yondrgroup1\n",
      "\tError copying HostedGismo1Site\n",
      "\tlist index out of range\n",
      "Copying SubmarineCable \tfor\t yondrgroup1\n",
      "\tError copying SubmarineCable\n",
      "\tlist index out of range\n",
      "Copying Substations _Global \tfor\t yondrgroup1\n",
      "\tError copying Substations _Global\n",
      "\tlist index out of range\n",
      "Copying World Countries \tfor\t yondrgroup1\n",
      "\tError copying World Countries\n",
      "\tlist index out of range\n",
      "Copying YondrMetros \tfor\t yondrgroup1\n",
      "\tError copying YondrMetros\n",
      "\tlist index out of range\n"
     ]
    }
   ],
   "source": [
    "# Copy over each item. While doing so, construct a dictionary mapping of source item's ID with target item's ID\n",
    "source_target_itemId_map = {}\n",
    "for item in group_items:\n",
    "    print(\"Copying {} \\tfor\\t {}\".format(item.title, item.owner))\n",
    "    target_item = copy_item(target, item)\n",
    "    if target_item:\n",
    "        item.itemid = target_item.itemid\n",
    "    else:\n",
    "        item.itemid = None"
   ]
  }
 ],
 "metadata": {
  "kernelspec": {
   "display_name": "Python 3",
   "language": "python",
   "name": "python3"
  },
  "language_info": {
   "codemirror_mode": {
    "name": "ipython",
    "version": 3
   },
   "file_extension": ".py",
   "mimetype": "text/x-python",
   "name": "python",
   "nbconvert_exporter": "python",
   "pygments_lexer": "ipython3",
   "version": "3.9.13 (main, Aug 25 2022, 23:51:50) [MSC v.1916 64 bit (AMD64)]"
  },
  "orig_nbformat": 4,
  "vscode": {
   "interpreter": {
    "hash": "364b97fa81033911e14e3ca765bf80c83daf5f3eab2b3d176ffc57d71e686759"
   }
  }
 },
 "nbformat": 4,
 "nbformat_minor": 2
}
