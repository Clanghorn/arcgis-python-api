{
 "cells": [
  {
   "cell_type": "markdown",
   "metadata": {},
   "source": [
    "# Web Experience Auto-App Creation Tool\n",
    "\n",
    "This notebook creates a copy of:\n",
    "- Web Experience application \n",
    "- Web Map used in the Web Experience\n",
    "- Creates a new View based on a desired feature services\n",
    "\n",
    "All three features services will be published in a new folder."
   ]
  },
  {
   "cell_type": "code",
   "execution_count": 81,
   "metadata": {},
   "outputs": [
    {
     "name": "stdout",
     "output_type": "stream",
     "text": [
      "Successfully logged in as: GIS @ https://Yondr.maps.arcgis.com version:10.3\n",
      "Successfully logged in as: GIS @ https://gismo.yondrgroup.com/portal/home version:9.2\n"
     ]
    }
   ],
   "source": [
    "# Connect to the GIS portal\n",
    "\n",
    "from arcgis.gis import GIS, Item\n",
    "from getpass import getpass as pwd\n",
    "import arcpy\n",
    "\n",
    "# Change \"username\" to your AGOL-username\n",
    "user_name = \"colin.langhorn_Yondr\"\n",
    "pwd = pwd()\n",
    "source = GIS(\"https://yondr.maps.arcgis.com/\", user_name, pwd,  expiration=9999)\n",
    "# gis = GIS()\n",
    "print (f\"Successfully logged in as: {source}\")\n",
    "\n",
    "# AGOL DEV\n",
    "# target = GIS('https://yondrdev.maps.arcgis.com/','YondrDev' , 'df1ZDR5vhG2a')\n",
    "# GISMO\n",
    "target = GIS('https://gismo.yondrgroup.com/portal/home','yondr.publisher' , '7ZhHZG7ebuMHh4k')\n",
    "print (f\"Successfully logged in as: {target}\")"
   ]
  },
  {
   "cell_type": "markdown",
   "metadata": {},
   "source": [
    "### Environment Varibles\n",
    "Fill out this section carefully by setting up all the proper inputs for creating a new Web Experience application"
   ]
  },
  {
   "cell_type": "code",
   "execution_count": 104,
   "metadata": {},
   "outputs": [
    {
     "name": "stdout",
     "output_type": "stream",
     "text": [
      "Variables are now set!\n"
     ]
    }
   ],
   "source": [
    "# New folder to pulish the Web Experience and its feature services\n",
    "new_folder = 'GISMO Test'\n",
    "\n",
    "# Name of the WebMap used in the Web Experience\n",
    "# WebMap_name = 'Master Client Interface'\n",
    "WebMap_name = 'Gismo 1.0 Map'\n",
    "# Name of the Web Experience app\n",
    "ExB_name =  'GISMO 1.0 Dev Manager App'\n",
    "\n",
    "# New name of the WebMap\n",
    "WebMap_new = 'Gismo 1.0 Map Test'\n",
    "# Name of the new Web Experience\n",
    "ExB_new = 'GISMO 1.0 Dev Manager App Test'\n",
    "\n",
    "# Feature layer that will be used to create a new view\n",
    "# view_lyr = 'ActiveSitesPRD'\n",
    "# view_lyr_new = 'ActiveSitesCactus-test'\n",
    "# # Definition query for view\n",
    "# view_qry = \"CactusGismoAppr = 'True'\"\n",
    "\n",
    "print(\"Variables are now set!\")"
   ]
  },
  {
   "cell_type": "markdown",
   "metadata": {},
   "source": [
    "### Tool Process\n",
    "All steps below do not require any modifications.\n",
    "Each step should have some sort of \"success\" output, if\n",
    "any step fails the process will not work and must be restarted."
   ]
  },
  {
   "cell_type": "code",
   "execution_count": 82,
   "metadata": {},
   "outputs": [
    {
     "data": {
      "text/plain": [
       "{'username': 'yondr.publisher',\n",
       " 'id': '912b8f9f13ab40b8906a9f4c55d10d09',\n",
       " 'title': 'GISMO Test'}"
      ]
     },
     "execution_count": 82,
     "metadata": {},
     "output_type": "execute_result"
    }
   ],
   "source": [
    "# create new folder\n",
    "dest_folder = target.content.create_folder(folder=new_folder)\n",
    "dest_folder"
   ]
  },
  {
   "cell_type": "code",
   "execution_count": 105,
   "metadata": {},
   "outputs": [
    {
     "name": "stdout",
     "output_type": "stream",
     "text": [
      "[{'groupTitle': 'Gismo Site', 'title': 'Site Boundary', 'itemid': '4c52b7a5d2ce44bcbbab8686971ab317', 'url': 'https://utility.arcgis.com/usrsvcs/servers/4c52b7a5d2ce44bcbbab8686971ab317/rest/services/YondrData/GismoSite/FeatureServer/1'}, {'groupTitle': 'Gismo Site', 'title': 'Site', 'itemid': '4c52b7a5d2ce44bcbbab8686971ab317', 'url': 'https://utility.arcgis.com/usrsvcs/servers/4c52b7a5d2ce44bcbbab8686971ab317/rest/services/YondrData/GismoSite/FeatureServer/0'}, {'title': 'Data Center', 'itemid': 'a63fbd9338a946db9ce5ad0b2c506e4f', 'url': 'https://services6.arcgis.com/yoQT8hnhlucS3D19/arcgis/rest/services/GlobalDCInfrastruture/FeatureServer/0'}, {'groupTitle': 'Submarine Cable', 'title': 'Submarine Cable', 'itemid': '6c9b79e629f34d18aea65e32602bff64', 'url': 'https://services6.arcgis.com/yoQT8hnhlucS3D19/arcgis/rest/services/SubmarineCable/FeatureServer/2'}, {'groupTitle': 'Submarine Cable', 'title': 'Landing Point', 'itemid': '6c9b79e629f34d18aea65e32602bff64', 'url': 'https://services6.arcgis.com/yoQT8hnhlucS3D19/arcgis/rest/services/SubmarineCable/FeatureServer/1'}]\n"
     ]
    }
   ],
   "source": [
    "from arcgis.mapping import WebMap\n",
    "# Get WebMap and the Feature Layer View (ActiveSites) AGOL item\n",
    "\n",
    "client_map = source.content.search(WebMap_name, item_type='Web Map')[0]\n",
    "client_map = source.content.search('6a43cfcd601749af9ed9f2cde8ae58da', item_type='Web Map')[0]\n",
    "wm = WebMap(client_map)\n",
    "# Build a dictionary to map the layers\n",
    "old_layers = []\n",
    "# for lyr in wm.layers:\n",
    "#     if lyr.layerType == \"GroupLayer\":\n",
    "#         print(lyr.title)\n",
    "#         for l in lyr.layers:\n",
    "#             print('    ' , l.title, l.id, l.url)\n",
    "#     else:\n",
    "#         print(lyr.title, lyr.id, lyr.url)\n",
    "\n",
    "\n",
    "for lyr in wm.layers:\n",
    "    if 'url' in lyr:                \n",
    "        d = {\"title\": lyr.title, \n",
    "             \"itemid\" :lyr.itemId, \n",
    "             \"url\": lyr.url}\n",
    "        old_layers.append(d)   \n",
    "    elif 'layerType' in lyr and lyr.layerType ==\"GroupLayer\":\n",
    "        for sublyr in lyr.layers:\n",
    "            if 'url' in sublyr:                \n",
    "                d = {\"groupTitle\": lyr.title,\n",
    "                    \"title\": sublyr.title, \n",
    "                     \"itemid\" :sublyr.itemId, \n",
    "                     \"url\": sublyr.url}\n",
    "                old_layers.append(d)   \n",
    "\n",
    "print(old_layers)\n",
    "\n",
    "    # print(lyr.Url)\n",
    "    # print(lyr.itemId)\n",
    "# lyrs = []\n",
    "# for item in client_map:\n",
    "#     print(item)\n",
    "#     active_site = item\n",
    "\n",
    "# active_site"
   ]
  },
  {
   "cell_type": "code",
   "execution_count": 49,
   "metadata": {},
   "outputs": [
    {
     "name": "stdout",
     "output_type": "stream",
     "text": [
      "{'success': True, 'itemId': '09769fbdd0db4f3a843c83fb958288a1', 'owner': 'colin.langhorn_Yondr', 'folder': 'c1f17b420c05449f86b03d569536c4d2'}\n"
     ]
    }
   ],
   "source": [
    "# Copy WebMap and move into the folder\n",
    "newmap = client_map.copy(title=WebMap_new)\n",
    "objMoved = newmap.move(folder=dest_folder[\"title\"])\n",
    "print(objMoved)\n"
   ]
  },
  {
   "cell_type": "code",
   "execution_count": 106,
   "metadata": {},
   "outputs": [
    {
     "name": "stdout",
     "output_type": "stream",
     "text": [
      "<Item title:\"Gismo 1.0 Map\" type:Web Map owner:yondr.publisher>\n"
     ]
    }
   ],
   "source": [
    "\n",
    "import json\n",
    "\n",
    "client_map_json = client_map.get_data(try_json=True)\n",
    "web_map_properties = {'title': wm.item.title,\n",
    "                      'type': 'Web Map',\n",
    "                      'snippet':wm.item.snippet,\n",
    "                      'tags': wm.item.tags,\n",
    "                      'text': json.dumps(client_map_json)}\n",
    "\n",
    "\n",
    "web_map_item = target.content.add(web_map_properties)\n",
    "print(web_map_item)"
   ]
  },
  {
   "cell_type": "code",
   "execution_count": 71,
   "metadata": {},
   "outputs": [
    {
     "data": {
      "text/html": [
       "<div class=\"item_container\" style=\"height: auto; overflow: hidden; border: 1px solid #cfcfcf; border-radius: 2px; background: #f6fafa; line-height: 1.21429em; padding: 10px;\">\n",
       "                    <div class=\"item_left\" style=\"width: 210px; float: left;\">\n",
       "                       <a href='https://Yondr.maps.arcgis.com/home/item.html?id=06eed4fbfc004f04bde5cee4039e9617' target='_blank'>\n",
       "                        <img src='http://static.arcgis.com/images/desktopapp.png' class=\"itemThumbnail\">\n",
       "                       </a>\n",
       "                    </div>\n",
       "\n",
       "                    <div class=\"item_right\"     style=\"float: none; width: auto; overflow: hidden;\">\n",
       "                        <a href='https://Yondr.maps.arcgis.com/home/item.html?id=06eed4fbfc004f04bde5cee4039e9617' target='_blank'><b>AGOL-Gismo 1.0 Map</b>\n",
       "                        </a>\n",
       "                        <br/>Putting together the client interface of what the clients will be able to see from our portfolio<img src='https://Yondr.maps.arcgis.com/home/js/jsapi/esri/css/images/item_type_icons/maps16.png' style=\"vertical-align:middle;\">Web Map by colin.langhorn_Yondr\n",
       "                        <br/>Last Modified: December 19, 2022\n",
       "                        <br/>0 comments, 0 views\n",
       "                    </div>\n",
       "                </div>\n",
       "                "
      ],
      "text/plain": [
       "<Item title:\"AGOL-Gismo 1.0 Map\" type:Web Map owner:colin.langhorn_Yondr>"
      ]
     },
     "execution_count": 71,
     "metadata": {},
     "output_type": "execute_result"
    }
   ],
   "source": [
    "web_map_item"
   ]
  },
  {
   "cell_type": "code",
   "execution_count": null,
   "metadata": {},
   "outputs": [],
   "source": [
    "def findItem()\n",
    "try:\n",
    "    for lyr in lyrs:\n",
    "        if 'url' in lyr and not found_it:                \n",
    "            found_it = lyr_to_find.lower() in lyr.url.lower()     \n",
    "        elif 'layerType' in lyr and lyr.layerType ==\"GroupLayer\":\n",
    "            for sublyr in lyr.layers:\n",
    "                if 'url' in sublyr and not found_it:                \n",
    "                    found_it = lyr_to_find.lower() in sublyr.url.lower()\n",
    "except Exception as error:\n",
    "    print(f'{item.title} led to an error')\n",
    "    print(error)\n",
    "    display(item)\n",
    "    continue"
   ]
  },
  {
   "cell_type": "code",
   "execution_count": 141,
   "metadata": {},
   "outputs": [
    {
     "name": "stdout",
     "output_type": "stream",
     "text": [
      "this is updated\n",
      "this is updated\n",
      "this is updated\n",
      "this is updated\n"
     ]
    },
    {
     "data": {
      "text/plain": [
       "True"
      ]
     },
     "execution_count": 141,
     "metadata": {},
     "output_type": "execute_result"
    }
   ],
   "source": [
    "# Update the WebMap to use the new layers\n",
    "new_map = target.content.search('39228f825d1740f785479f0bc296141b', item_type='Web Map')[0]\n",
    "wm_new = WebMap(new_map)\n",
    "\n",
    "layer_mapper = {}\n",
    "for item in old_layers:\n",
    "    # Find item in new portal based on title\n",
    "    title = item['title']\n",
    "    try:\n",
    "        old_url = item['url']\n",
    "        old_id = item['itemid']\n",
    "        if 'groupTitle' in item:\n",
    "            grouptitle = item['groupTitle']\n",
    "            new_layer = target.content.search(grouptitle, item_type='Feature Layer')[0]\n",
    "            new_id = new_layer.id\n",
    "            for sublyr in new_layer.layers:\n",
    "                if sublyr.properties.name == title:\n",
    "                    new_url = sublyr.url\n",
    "        else:\n",
    "            new_layer = target.content.search(title, item_type='Feature Layer')[0]\n",
    "            new_url = new_layer.url\n",
    "            new_id = new_layer.id\n",
    "\n",
    "        for lyr in wm_new.layers:\n",
    "        # Bug with comparing arcgis vs. ArcGIS in url\n",
    "            if 'layerType' in lyr and lyr.layerType ==\"GroupLayer\":\n",
    "                for sublyr in lyr.layers:\n",
    "                    if old_url.lower() == sublyr['url'].lower():\n",
    "                        print('this is updated')\n",
    "                        sublyr['url'] = new_url\n",
    "                        sublyr['itemId'] = new_id\n",
    "                        target.update_properties(wm_new)\n",
    "            elif 'url' in lyr and old_url.lower() == lyr['url'].lower():\n",
    "                lyr['url'] = new_url\n",
    "                lyr['itemId'] = new_id\n",
    "                target.update_properties(wm_new)\n",
    "            # print (\"Service Updated for \" + lyr['title'])\n",
    "    except Exception as e:\n",
    "        print('error', e.args[0])\n",
    "wm_new.update()"
   ]
  },
  {
   "cell_type": "code",
   "execution_count": 127,
   "metadata": {},
   "outputs": [
    {
     "name": "stdout",
     "output_type": "stream",
     "text": [
      "Site\n"
     ]
    }
   ],
   "source": [
    "# Update the WebMap to use the new layers\n",
    "\n",
    "\n",
    "\n",
    "grouptitle = 'Gismo Site'\n",
    "new_layer = target.content.search(grouptitle, item_type='Feature Layer')[0]\n",
    "print(new_layer.layers[0].properties.name)\n",
    "# for sublyr in new_layer.layers:\n",
    "#     print(sublyr)\n",
    "#     if sublyr.title == title:\n",
    "#         new_url = new_layer.url\n"
   ]
  },
  {
   "cell_type": "code",
   "execution_count": null,
   "metadata": {},
   "outputs": [],
   "source": []
  },
  {
   "cell_type": "code",
   "execution_count": 8,
   "metadata": {},
   "outputs": [
    {
     "data": {
      "text/html": [
       "<div class=\"item_container\" style=\"height: auto; overflow: hidden; border: 1px solid #cfcfcf; border-radius: 2px; background: #f6fafa; line-height: 1.21429em; padding: 10px;\">\n",
       "                    <div class=\"item_left\" style=\"width: 210px; float: left;\">\n",
       "                       <a href='https://Yondr.maps.arcgis.com/home/item.html?id=79a51a28eead456bb63a30937976308a' target='_blank'>\n",
       "                        <img src='http://static.arcgis.com/images/desktopapp.png' class=\"itemThumbnail\">\n",
       "                       </a>\n",
       "                    </div>\n",
       "\n",
       "                    <div class=\"item_right\"     style=\"float: none; width: auto; overflow: hidden;\">\n",
       "                        <a href='https://Yondr.maps.arcgis.com/home/item.html?id=79a51a28eead456bb63a30937976308a' target='_blank'><b>Cactus Client Interface</b>\n",
       "                        </a>\n",
       "                        <br/>Putting together the client interface of what the clients will be able to see from our portfolio DEVELOPMENT VERSION<img src='https://Yondr.maps.arcgis.com/home/js/jsapi/esri/css/images/item_type_icons/maps16.png' style=\"vertical-align:middle;\">Web Map by colin.langhorn_Yondr\n",
       "                        <br/>Last Modified: December 19, 2022\n",
       "                        <br/>0 comments, 0 views\n",
       "                    </div>\n",
       "                </div>\n",
       "                "
      ],
      "text/plain": [
       "<Item title:\"Cactus Client Interface\" type:Web Map owner:colin.langhorn_Yondr>"
      ]
     },
     "execution_count": 8,
     "metadata": {},
     "output_type": "execute_result"
    }
   ],
   "source": [
    "newmap"
   ]
  },
  {
   "cell_type": "markdown",
   "metadata": {},
   "source": [
    "# Copy The Experience App"
   ]
  },
  {
   "cell_type": "code",
   "execution_count": 9,
   "metadata": {},
   "outputs": [
    {
     "name": "stdout",
     "output_type": "stream",
     "text": [
      "Function Sucessfully Created :)\n"
     ]
    }
   ],
   "source": [
    "# Define a function for copying the Web Experience \n",
    "import os\n",
    "import uuid\n",
    "import json\n",
    "import shutil\n",
    "import tempfile\n",
    "\n",
    "from arcgis import __version__\n",
    "\n",
    "_version = [int(i) for i in __version__.split('.')]\n",
    "\n",
    "# Build some helper functions\n",
    "def export_resources(item, save_path=None, file_name=None):\n",
    "    \"\"\"Export's the data's resources as a zip file\"\"\"\n",
    "    url = \\\n",
    "        f'{item._gis._portal.resturl}content/users/{item._user_id}/items/{item.itemid}/resources/export'\n",
    "    if save_path is None:\n",
    "        save_path = tempfile.gettempdir()\n",
    "    if file_name is None:\n",
    "        file_name = f\"{uuid.uuid4().hex[:6]}.zip\"\n",
    "    params = {'f' : 'zip'}\n",
    "    con = item._gis._portal.con\n",
    "    resources = con.get(url, params=params,\n",
    "                        out_folder=save_path,\n",
    "                        file_name=file_name,\n",
    "                        try_json=False)\n",
    "    return resources\n",
    "\n",
    "print(\"Function Sucessfully Created :)\")"
   ]
  },
  {
   "cell_type": "code",
   "execution_count": 10,
   "metadata": {},
   "outputs": [
    {
     "data": {
      "text/html": [
       "<div class=\"item_container\" style=\"height: auto; overflow: hidden; border: 1px solid #cfcfcf; border-radius: 2px; background: #f6fafa; line-height: 1.21429em; padding: 10px;\">\n",
       "                    <div class=\"item_left\" style=\"width: 210px; float: left;\">\n",
       "                       <a href='https://Yondr.maps.arcgis.com/home/item.html?id=d4463a3c163b401f80dcc72ee90c9835' target='_blank'>\n",
       "                        <img src='data:image/png;base64,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' width='200' height='133' class=\"itemThumbnail\">\n",
       "                       </a>\n",
       "                    </div>\n",
       "\n",
       "                    <div class=\"item_right\"     style=\"float: none; width: auto; overflow: hidden;\">\n",
       "                        <a href='https://Yondr.maps.arcgis.com/home/item.html?id=d4463a3c163b401f80dcc72ee90c9835' target='_blank'><b>Master GISMO Client Portal</b>\n",
       "                        </a>\n",
       "                        <br/>The main client app that all other apps are made from *internal use only*\n",
       "<img src='https://Yondr.maps.arcgis.com/home/js/jsapi/esri/css/images/item_type_icons/layers16.png' style=\"vertical-align:middle;\">Web Experience by yondrgroup1\n",
       "                        <br/>Last Modified: November 16, 2022\n",
       "                        <br/>0 comments, 53 views\n",
       "                    </div>\n",
       "                </div>\n",
       "                "
      ],
      "text/plain": [
       "<Item title:\"Master GISMO Client Portal\" type:Web Experience owner:yondrgroup1>"
      ]
     },
     "execution_count": 10,
     "metadata": {},
     "output_type": "execute_result"
    }
   ],
   "source": [
    "# Get the Client App Web Experience\n",
    "client_app_id = gis.content.search(ExB_name, item_type='Web Experience')[0]\n",
    "client_app = gis.content.get(client_app_id.id)\n",
    "resource = client_app.resources.export()\n",
    "client_app"
   ]
  },
  {
   "cell_type": "code",
   "execution_count": 11,
   "metadata": {},
   "outputs": [
    {
     "data": {
      "text/plain": [
       "['dc40a31dc3b84ca789982fb27f3bdf90']"
      ]
     },
     "execution_count": 11,
     "metadata": {},
     "output_type": "execute_result"
    }
   ],
   "source": [
    "# Collect the Web Maps and Express Maps using the Experience's data. Use the set \n",
    "# operator each item is collected only once for cloning.\n",
    "client_app_json = client_app.get_data(try_json=True)\n",
    "\n",
    "# for k, v in client_app_json['dataSources'].items():\n",
    "#     print(v['type']) \n",
    "\n",
    "web_maps = ([v['itemId'] for k, v in client_app_json['dataSources'].items() \\\n",
    "                if v['type'].find('WEB_MAP')>-1])\n",
    "\n",
    "web_maps"
   ]
  },
  {
   "cell_type": "code",
   "execution_count": 12,
   "metadata": {},
   "outputs": [
    {
     "data": {
      "text/plain": [
       "{'dc40a31dc3b84ca789982fb27f3bdf90': '79a51a28eead456bb63a30937976308a'}"
      ]
     },
     "execution_count": 12,
     "metadata": {},
     "output_type": "execute_result"
    }
   ],
   "source": [
    "# Create a dictionary map of old and new item ids\n",
    "webmap_mapper = {}\n",
    "webmap_mapper[web_maps[0]] = newmap.itemid\n",
    "webmap_mapper\n"
   ]
  },
  {
   "cell_type": "code",
   "execution_count": 13,
   "metadata": {},
   "outputs": [
    {
     "name": "stdout",
     "output_type": "stream",
     "text": [
      "old id: dc40a31dc3b84ca789982fb27f3bdf90, new id: 79a51a28eead456bb63a30937976308a\n"
     ]
    }
   ],
   "source": [
    "# Replace the Web Experience Json with the new item ids\n",
    "client_app_text = json.dumps(client_app_json)\n",
    "\n",
    "for k, v in webmap_mapper.items():\n",
    "    client_app_text = client_app_text.replace(k, v) # replace the IDs\n",
    "    print(f'old id: {k}, new id: {v}')"
   ]
  },
  {
   "cell_type": "code",
   "execution_count": 14,
   "metadata": {},
   "outputs": [
    {
     "data": {
      "text/plain": [
       "{'success': True,\n",
       " 'itemId': '4eb203b399d74146b6f45af00a8b6782',\n",
       " 'owner': 'colin.langhorn_Yondr',\n",
       " 'folder': 'null'}"
      ]
     },
     "execution_count": 14,
     "metadata": {},
     "output_type": "execute_result"
    }
   ],
   "source": [
    "# Create the New Web Experience\n",
    "new_item = gis.content.add({'type' : client_app.type,\n",
    "                                 'tags' : client_app.tags,\n",
    "                                 'title' : ExB_new,\n",
    "                                 'description' : client_app.description,\n",
    "                                 'typeKeywords' : client_app.typeKeywords,\n",
    "                                 'extent' : client_app.extent,\n",
    "                                 'text' :client_app_text}\n",
    "                                )\n",
    "new_item.resources.add(resource, archive=True)"
   ]
  },
  {
   "cell_type": "code",
   "execution_count": 15,
   "metadata": {},
   "outputs": [
    {
     "data": {
      "text/plain": [
       "True"
      ]
     },
     "execution_count": 15,
     "metadata": {},
     "output_type": "execute_result"
    }
   ],
   "source": [
    "new_item.update({'url': client_app.url.replace(client_app.id, new_item.id)})"
   ]
  },
  {
   "cell_type": "code",
   "execution_count": 16,
   "metadata": {},
   "outputs": [
    {
     "data": {
      "text/html": [
       "<div class=\"item_container\" style=\"height: auto; overflow: hidden; border: 1px solid #cfcfcf; border-radius: 2px; background: #f6fafa; line-height: 1.21429em; padding: 10px;\">\n",
       "                    <div class=\"item_left\" style=\"width: 210px; float: left;\">\n",
       "                       <a href='https://Yondr.maps.arcgis.com/home/item.html?id=4eb203b399d74146b6f45af00a8b6782' target='_blank'>\n",
       "                        <img src='http://static.arcgis.com/images/desktopapp.png' class=\"itemThumbnail\">\n",
       "                       </a>\n",
       "                    </div>\n",
       "\n",
       "                    <div class=\"item_right\"     style=\"float: none; width: auto; overflow: hidden;\">\n",
       "                        <a href='https://Yondr.maps.arcgis.com/home/item.html?id=4eb203b399d74146b6f45af00a8b6782' target='_blank'><b>Cactus GISMO Client Portal</b>\n",
       "                        </a>\n",
       "                        <br/><img src='https://Yondr.maps.arcgis.com/home/js/jsapi/esri/css/images/item_type_icons/layers16.png' style=\"vertical-align:middle;\">Web Experience by colin.langhorn_Yondr\n",
       "                        <br/>Last Modified: December 19, 2022\n",
       "                        <br/>0 comments, 0 views\n",
       "                    </div>\n",
       "                </div>\n",
       "                "
      ],
      "text/plain": [
       "<Item title:\"Cactus GISMO Client Portal\" type:Web Experience owner:colin.langhorn_Yondr>"
      ]
     },
     "execution_count": 16,
     "metadata": {},
     "output_type": "execute_result"
    }
   ],
   "source": [
    "# Final modifications of Web Experience\n",
    "with tempfile.NamedTemporaryFile(mode='w', suffix='.json', \n",
    "                                 dir=tempfile.gettempdir(), \n",
    "                                 delete=False) as jsonfile:\n",
    "    jsonfile.write(json.dumps(new_item.get_data()))\n",
    "    new_item.resources.add(file=jsonfile.name)\n",
    "    type_keywords = [tk for tk in new_item.typeKeywords if 'smdraftresourceid:' not in tk]\n",
    "    type_keywords.append(f'smdraftresourceid:{os.path.basename(jsonfile.name)}')\n",
    "    new_item.update({'typeKeywords' : type_keywords})\n",
    "\n",
    "# Move to the folder\n",
    "new_item.move(folder=dest_folder[\"title\"])\n",
    "new_item"
   ]
  },
  {
   "cell_type": "markdown",
   "metadata": {},
   "source": [
    "## Utils for Webmaps\n",
    "This sections is not used for copying the Experience Builder application"
   ]
  },
  {
   "cell_type": "code",
   "execution_count": 17,
   "metadata": {},
   "outputs": [
    {
     "name": "stdout",
     "output_type": "stream",
     "text": [
      "ClientInterfaceDEV\n",
      "----------------------------------------------------------------------------------------------------\n",
      "  Redbrick_ActiveSitesPRD_view            HOSTED     ArcGISFeatureLayer  444b102ad0d1421b8379b782d0916df8\n",
      "\n",
      "\n",
      "  ActiveSitesPRD_2_viewrbk                other      ArcGISFeatureLayer  180998dc01e-layer-39\n",
      "\n",
      "\n",
      "  ActiveSitesRBKQUAT                      other      ArcGISFeatureLayer  18098ce1c0b-layer-38\n",
      "\n",
      "\n",
      "  Active Sites                            HOSTED     ArcGISFeatureLayer  1cc1f27d71b04007b314b2baef9a1a04\n",
      "\n",
      "\n",
      "  Availability Zone Global                other      ArcGISFeatureLayer  17e9e878ea0-layer-21\n",
      "\n",
      "\n",
      "  Data Center                             HOSTED     ArcGISFeatureLayer  a63fbd9338a946db9ce5ad0b2c506e4f\n",
      "\n",
      "\n",
      "  Internet Exchange                       HOSTED     ArcGISFeatureLayer  a63fbd9338a946db9ce5ad0b2c506e4f\n",
      "\n",
      "\n",
      "  Site Boundaries                         HOSTED     ArcGISFeatureLayer  ea190df2128846109280d9bfba996335\n",
      "\n",
      "\n",
      "  Substation                              HOSTED     ArcGISFeatureLayer  b546c7bc0ad14e019be4cea6bb868586\n",
      "\n",
      "\n",
      "  Energy Plant                            HOSTED     ArcGISFeatureLayer  fa1122db038b4cd6b103ec78cbf98b93\n",
      "\n",
      "\n",
      "  60km radius                             HOSTED     ArcGISFeatureLayer  575d24ba305e49078e4c8d924cb8100f\n",
      "\n",
      "\n",
      "  10km radius                             HOSTED     ArcGISFeatureLayer  575d24ba305e49078e4c8d924cb8100f\n",
      "\n",
      "\n",
      "  Windfarms Boundary                      HOSTED     ArcGISFeatureLayer  dac3da48aa194445ac54b614e676019d\n",
      "\n",
      "\n",
      "  Fiber Network                           other      VectorTileLayer     1540\n",
      "\n",
      "\n",
      "  Windfarms Point                         HOSTED     ArcGISFeatureLayer  dac3da48aa194445ac54b614e676019d\n",
      "\n",
      "\n",
      "  Renewable Energy Power Plants           other      ArcGISFeatureLayer  17be2502f49-layer-17\n",
      "\n",
      "\n",
      "  Overhead Line                           HOSTED     ArcGISFeatureLayer  f9f72a3428a040cba417d42d6cfed2fe\n",
      "\n",
      "\n",
      "  Landing Station                         HOSTED     ArcGISFeatureLayer  a63fbd9338a946db9ce5ad0b2c506e4f\n",
      "\n",
      "\n",
      "  Submarine Cable                         HOSTED     ArcGISFeatureLayer  a63fbd9338a946db9ce5ad0b2c506e4f\n",
      "\n",
      "\n",
      "  Amsterdam                               other      GroupLayer          17e9e913d75-layer-28\n",
      "\n",
      "\n",
      "  Risk Data                               other      GroupLayer          17e9e85dace-layer-20\n",
      "\n",
      "\n",
      "  Mapbox - Satellite Only                 other      WebTiledLayer       17e960b38fa-layer-15\n",
      "\n",
      "\n"
     ]
    }
   ],
   "source": [
    "# Inspect Webmap\n",
    "from arcgis.mapping import WebMap\n",
    "\n",
    "def is_hosted(item):\n",
    "    return [keyword for keyword in item.typeKeywords if \"Hosted\" in keyword] \n",
    "\n",
    "def print_webmap_inventory(wm):\n",
    "    wm_obj = WebMap(wm)\n",
    "    print(f\"{wm_obj.item.title}\\n{'-'*100}\")\n",
    "    for wm_layer in wm_obj.layers:\n",
    "        try:\n",
    "            if is_hosted(Item(gis, wm_layer['itemId'])):\n",
    "                print(f\"{' '*2}{wm_layer['title']:40}HOSTED{' ':5}\"\n",
    "                        f\"{wm_layer['layerType']:20}{dict(wm_layer)['itemId']}\")\n",
    "            else:\n",
    "                print(f\"{' '*2}{wm_layer['title']:40}other{' ':6}\"\n",
    "                        f\"{wm_layer['layerType']:20}{wm_layer.id}\") \n",
    "        except:\n",
    "            print(f\"{' '*2}{wm_layer['title']:40}other{' ':6}\"\n",
    "                    f\"{wm_layer['layerType']:20}{wm_layer.id}\")\n",
    "        print(\"\\n\")\n",
    "\n",
    "print_webmap_inventory(client_map)"
   ]
  }
 ],
 "metadata": {
  "kernelspec": {
   "display_name": "Python 3",
   "language": "python",
   "name": "python3"
  },
  "language_info": {
   "codemirror_mode": {
    "name": "ipython",
    "version": 3
   },
   "file_extension": ".py",
   "mimetype": "text/x-python",
   "name": "python",
   "nbconvert_exporter": "python",
   "pygments_lexer": "ipython3",
   "version": "3.9.13"
  },
  "orig_nbformat": 4,
  "vscode": {
   "interpreter": {
    "hash": "364b97fa81033911e14e3ca765bf80c83daf5f3eab2b3d176ffc57d71e686759"
   }
  }
 },
 "nbformat": 4,
 "nbformat_minor": 2
}
